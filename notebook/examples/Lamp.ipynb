{
 "cells": [
  {
   "cell_type": "code",
   "execution_count": 15,
   "id": "44007945-6eb2-4ff2-b896-7d38846934eb",
   "metadata": {},
   "outputs": [],
   "source": [
    "import os\n",
    "import random\n",
    "import pickle\n",
    "import matplotlib.pyplot as plt\n",
    "\n",
    "from termcolor import cprint \n",
    "\n",
    "from pycolonies import Colonies\n",
    "from pycolonies import colonies_client\n",
    "from pycolonies import func_spec\n",
    "\n",
    "colonies, colonyid, colony_prvkey, executorid, executor_prvkey = colonies_client()"
   ]
  },
  {
   "cell_type": "code",
   "execution_count": 19,
   "id": "227d5468-3cb7-48db-b257-d990ae0931a0",
   "metadata": {},
   "outputs": [],
   "source": [
    "f = func_spec(func=\"set_lamp_state\",\n",
    "              args=[\"off\"],\n",
    "              colonyid=colonyid,\n",
    "              executortype=\"lamp-executor\",\n",
    "              priority=0,\n",
    "              maxexectime=100,\n",
    "              maxretries=3,\n",
    "              maxwaittime=-1)\n",
    "\n",
    "process = colonies.submit(f, executor_prvkey)"
   ]
  },
  {
   "cell_type": "code",
   "execution_count": 14,
   "id": "04f7adb1-4d59-4ec2-8099-0db4bd671397",
   "metadata": {},
   "outputs": [],
   "source": [
    "#colonies.get_process(process[\"processid\"], executor_prvkey)"
   ]
  }
 ],
 "metadata": {
  "kernelspec": {
   "display_name": "Python 3 (ipykernel)",
   "language": "python",
   "name": "python3"
  },
  "language_info": {
   "codemirror_mode": {
    "name": "ipython",
    "version": 3
   },
   "file_extension": ".py",
   "mimetype": "text/x-python",
   "name": "python",
   "nbconvert_exporter": "python",
   "pygments_lexer": "ipython3",
   "version": "3.8.10"
  }
 },
 "nbformat": 4,
 "nbformat_minor": 5
}
