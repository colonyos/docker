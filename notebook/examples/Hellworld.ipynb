{
 "cells": [
  {
   "cell_type": "code",
   "execution_count": 103,
   "id": "44007945-6eb2-4ff2-b896-7d38846934eb",
   "metadata": {},
   "outputs": [],
   "source": [
    "import os\n",
    "import random\n",
    "import pickle\n",
    "import matplotlib.pyplot as plt\n",
    "\n",
    "from termcolor import cprint \n",
    "\n",
    "from pycolonies import Colonies\n",
    "from pycolonies import colonies_client\n",
    "from pycolonies import func_spec\n",
    "\n",
    "colonies, colonyid, colony_prvkey, executorid, executor_prvkey = colonies_client()"
   ]
  },
  {
   "cell_type": "code",
   "execution_count": 115,
   "id": "87208507-4ebc-4b7d-b753-6baf682948a9",
   "metadata": {},
   "outputs": [
    {
     "name": "stdout",
     "output_type": "stream",
     "text": [
      "\u001b[36m Uploading Untitled.ipynb 100% [\u001b[34m=\u001b[0m\u001b[34m=\u001b[0m\u001b[34m=\u001b[0m\u001b[34m=\u001b[0m\u001b[34m=\u001b[0m\u001b[34m=\u001b[0m\u001b[34m=\u001b[0m\u001b[34m=\u001b[0m\u001b[34m=\u001b[0m\u001b[34m=\u001b[0m\u001b[34m=\u001b[0m\u001b[34m=\u001b[0m\u001b[34m=\u001b[0m\u001b[34m=\u001b[0m\u001b[34m=\u001b[0m] (34 MB/s)\u001b[0m\n",
      "\u001b[36m Uploading classifier.py 100% [\u001b[34m=\u001b[0m\u001b[34m=\u001b[0m\u001b[34m=\u001b[0m\u001b[34m=\u001b[0m\u001b[34m=\u001b[0m\u001b[34m=\u001b[0m\u001b[34m=\u001b[0m\u001b[34m=\u001b[0m\u001b[34m=\u001b[0m\u001b[34m=\u001b[0m\u001b[34m=\u001b[0m\u001b[34m=\u001b[0m\u001b[34m=\u001b[0m\u001b[34m=\u001b[0m\u001b[34m=\u001b[0m] (19 MB/s)\u001b[0m\n",
      "\u001b[36m Downloading sumbit_example.py 100% [\u001b[34m=\u001b[0m\u001b[34m=\u001b[0m\u001b[34m=\u001b[0m\u001b[34m=\u001b[0m\u001b[34m=\u001b[0m\u001b[34m=\u001b[0m\u001b[34m=\u001b[0m\u001b[34m=\u001b[0m\u001b[34m=\u001b[0m\u001b[34m=\u001b[0m\u001b[34m=\u001b[0m\u001b[34m=\u001b[0m\u001b[34m=\u001b[0m\u001b[34m=\u001b[0m\u001b[34m=\u001b[0m] (146 kB/s)\u001b[0m\n",
      "\u001b[36m Uploading Colonies.ipynb 100% [\u001b[34m=\u001b[0m\u001b[34m=\u001b[0m\u001b[34m=\u001b[0m\u001b[34m=\u001b[0m\u001b[34m=\u001b[0m\u001b[34m=\u001b[0m\u001b[34m=\u001b[0m\u001b[34m=\u001b[0m\u001b[34m=\u001b[0m\u001b[34m=\u001b[0m\u001b[34m=\u001b[0m\u001b[34m=\u001b[0m\u001b[34m=\u001b[0m\u001b[34m=\u001b[0m\u001b[34m=\u001b[0m] (463 MB/s)\u001b[0m\n"
     ]
    }
   ],
   "source": [
    "!colonies fs sync -l classifier_results -d /root/classifier_results --keeplocal=false --yes\n",
    "!colonies fs sync -l src -d /root/src --yes\n",
    "!colonies fs sync -l notebook -d /root/examples --yes"
   ]
  },
  {
   "cell_type": "code",
   "execution_count": 116,
   "id": "15b8e982-46c6-4fec-8c45-a122ea87cca0",
   "metadata": {},
   "outputs": [],
   "source": [
    "snapshotname = str(random.randint(0,9**60))\n",
    "snapshot = colonies.create_snapshot(colonyid, \"src\", snapshotname, executor_prvkey)\n",
    "f = func_spec(func=\"execute\",\n",
    "              args=[],\n",
    "              kwargs={\n",
    "                \"cmd\":\"python3\",\n",
    "                \"args\":[\"/tmp/helloworld/helloworld.py\"],\n",
    "                \"keep_snapshots\": False\n",
    "              },\n",
    "              fs=[ \n",
    "                  {\n",
    "                    \"snapshotid\": snapshot[\"snapshotid\"],\n",
    "                    \"dir\": \"/tmp/helloworld\"\n",
    "                  },\n",
    "                  {\n",
    "                    \"label\": \"result\",\n",
    "                    \"dir\": \"/tmp/helloworld/result\",\n",
    "                    \"sync_on_completion\": True  \n",
    "                  }\n",
    "              ],\n",
    "              colonyid=colonyid,\n",
    "              executortype=\"gpu-mlexecutor\",\n",
    "              priority=0,\n",
    "              maxexectime=100,\n",
    "              maxretries=3,\n",
    "              maxwaittime=-1)\n",
    "\n",
    "process = colonies.submit(f, executor_prvkey)"
   ]
  },
  {
   "cell_type": "code",
   "execution_count": 117,
   "id": "04f7adb1-4d59-4ec2-8099-0db4bd671397",
   "metadata": {},
   "outputs": [
    {
     "data": {
      "text/plain": [
       "{'processid': '00a6511f9bc2c63550d780d1dc959b8c8bb7ad1dbd5feaa4f5a6b4cabbbc02e3',\n",
       " 'assignedexecutorid': '6b57f3f4737c8980b64ca7b657343c4ee92165f1b07b64ccbbaff2eaa2836514',\n",
       " 'isassigned': True,\n",
       " 'state': 2,\n",
       " 'prioritytime': 1692610844772726486,\n",
       " 'submissiontime': '2023-08-21T11:40:44.772726+02:00',\n",
       " 'starttime': '2023-08-21T11:40:44.777108+02:00',\n",
       " 'endtime': '2023-08-21T11:40:45.587918+02:00',\n",
       " 'waitdeadline': '0001-01-01T00:53:28+00:53',\n",
       " 'execdeadline': '2023-08-21T11:42:24.777108+02:00',\n",
       " 'retries': 0,\n",
       " 'attributes': [],\n",
       " 'spec': {'nodename': 'execute',\n",
       "  'funcname': 'execute',\n",
       "  'args': [],\n",
       "  'kwargs': {'args': ['/tmp/helloworld/helloworld.py'],\n",
       "   'cmd': 'python3',\n",
       "   'keep_snapshots': False},\n",
       "  'priority': 0,\n",
       "  'maxwaittime': -1,\n",
       "  'maxexectime': 100,\n",
       "  'maxretries': 3,\n",
       "  'conditions': {'colonyid': '4787a5071856a4acf702b2ffcea422e3237a679c681314113d86139461290cf4',\n",
       "   'executorids': [],\n",
       "   'executortype': 'gpu-mlexecutor',\n",
       "   'dependencies': []},\n",
       "  'label': '',\n",
       "  'fs': [{'label': '',\n",
       "    'snapshotid': 'eee7f8dc80ff85cdd2cd08426953e2ecf5555b4d9500d3c935d9d53707b77bf0',\n",
       "    'dir': '/tmp/helloworld',\n",
       "    'sync_on_completion': False},\n",
       "   {'label': 'result',\n",
       "    'snapshotid': '',\n",
       "    'dir': '/tmp/helloworld/result',\n",
       "    'sync_on_completion': True}],\n",
       "  'env': {}},\n",
       " 'waitforparents': False,\n",
       " 'parents': [],\n",
       " 'children': [],\n",
       " 'processgraphid': '',\n",
       " 'in': [],\n",
       " 'out': [],\n",
       " 'errors': []}"
      ]
     },
     "execution_count": 117,
     "metadata": {},
     "output_type": "execute_result"
    }
   ],
   "source": [
    "colonies.get_process(process[\"processid\"], executor_prvkey)"
   ]
  },
  {
   "cell_type": "code",
   "execution_count": 118,
   "id": "fa192459-8e9b-40ee-a6b6-bc620a19f0a7",
   "metadata": {},
   "outputs": [
    {
     "name": "stdout",
     "output_type": "stream",
     "text": [
      "Helloworld 4!!!\n",
      "\u001b[0m\n",
      "\u001b[0m"
     ]
    }
   ],
   "source": [
    "for l in colonies.get_process_log(process[\"processid\"], 500, -1, executor_prvkey):\n",
    "    cprint(l[\"message\"], end=\"\")"
   ]
  },
  {
   "cell_type": "code",
   "execution_count": 119,
   "id": "7787e11c-3848-4db3-8830-2790c141c5bd",
   "metadata": {},
   "outputs": [
    {
     "ename": "TypeError",
     "evalue": "list_executors() missing 1 required positional argument: 'prvkey'",
     "output_type": "error",
     "traceback": [
      "\u001b[0;31m---------------------------------------------------------------------------\u001b[0m",
      "\u001b[0;31mTypeError\u001b[0m                                 Traceback (most recent call last)",
      "Cell \u001b[0;32mIn[119], line 1\u001b[0m\n\u001b[0;32m----> 1\u001b[0m \u001b[43mcolonies\u001b[49m\u001b[38;5;241;43m.\u001b[39;49m\u001b[43mlist_executors\u001b[49m\u001b[43m(\u001b[49m\u001b[43mexecutor_prvkey\u001b[49m\u001b[43m)\u001b[49m\n",
      "\u001b[0;31mTypeError\u001b[0m: list_executors() missing 1 required positional argument: 'prvkey'"
     ]
    }
   ],
   "source": []
  },
  {
   "cell_type": "code",
   "execution_count": null,
   "id": "24b78927-ac0a-4a37-9635-e7730bd44eb6",
   "metadata": {},
   "outputs": [],
   "source": []
  }
 ],
 "metadata": {
  "kernelspec": {
   "display_name": "Python 3 (ipykernel)",
   "language": "python",
   "name": "python3"
  },
  "language_info": {
   "codemirror_mode": {
    "name": "ipython",
    "version": 3
   },
   "file_extension": ".py",
   "mimetype": "text/x-python",
   "name": "python",
   "nbconvert_exporter": "python",
   "pygments_lexer": "ipython3",
   "version": "3.8.10"
  }
 },
 "nbformat": 4,
 "nbformat_minor": 5
}
